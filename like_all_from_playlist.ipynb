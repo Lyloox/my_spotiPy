{
 "cells": [
  {
   "cell_type": "code",
   "execution_count": null,
   "id": "dafb71ac",
   "metadata": {
    "scrolled": true
   },
   "outputs": [],
   "source": [
    "import os\n",
    "\n",
    "c_id = os.environ['c_id']\n",
    "c_secret = os.environ['c_secret']"
   ]
  },
  {
   "cell_type": "code",
   "execution_count": 5,
   "id": "c685e889",
   "metadata": {},
   "outputs": [
    {
     "name": "stdout",
     "output_type": "stream",
     "text": [
      "0 Say It Ain't So\n",
      "1 Island In The Sun\n",
      "2 Buddy Holly\n",
      "3 Undone - The Sweater Song\n",
      "4 Beverly Hills\n",
      "5 Africa\n",
      "6 Hash Pipe\n",
      "7 Enter Sandman\n",
      "8 All My Favorite Songs (feat. AJR)\n",
      "9 My Name Is Jonas\n",
      "10 Pork And Beans\n",
      "11 All My Favorite Songs\n",
      "12 Lost in the Woods - Weezer Version\n",
      "13 All My Favorite Songs\n",
      "14 We Wish You A Merry Christmas\n",
      "15 Take on Me\n",
      "16 The Christmas Song\n",
      "17 O Come All Ye Faithful\n",
      "18 (If You're Wondering If I Want You To) I Want You To\n",
      "19 We Wish You A Merry Christmas\n"
     ]
    }
   ],
   "source": [
    "import spotipy\n",
    "from spotipy.oauth2 import SpotifyClientCredentials\n",
    "\n",
    "sp = spotipy.Spotify(auth_manager=SpotifyClientCredentials(client_id=c_id,\n",
    "                                                           client_secret=c_secret))\n",
    "\n",
    "results = sp.search(q='weezer', limit=20)\n",
    "for idx, track in enumerate(results['tracks']['items']):\n",
    "    print(idx, track['name'])"
   ]
  },
  {
   "cell_type": "code",
   "execution_count": 47,
   "id": "ed60ac32",
   "metadata": {},
   "outputs": [],
   "source": [
    "from spotipy.oauth2 import SpotifyOAuth\n",
    "\n",
    "sp = spotipy.Spotify(auth_manager=SpotifyOAuth(client_id=c_id,\n",
    "                                               client_secret=c_secret,\n",
    "                                               redirect_uri=\"https://127.0.0.1\",\n",
    "                                               scope=\"playlist-read-private playlist-read-collaborative user-library-modify\"))"
   ]
  },
  {
   "cell_type": "code",
   "execution_count": 36,
   "id": "1b14d924",
   "metadata": {},
   "outputs": [
    {
     "name": "stdout",
     "output_type": "stream",
     "text": [
      "Enter the URL you were redirected to: https://127.0.0.1/?code=AQCzmnZFlDJq-fOFhi_yVdj-E4u1_A7xmcDvMsIu6127uVmvPYD0W8Hnr0f3ZaBmebMbZGE2hvrddsWx3sPVCJVn8LkjLsyIzZCoa4hvFPybwPsrTIbcGYr74INykBH9RyaUg-TPcheGqhUfK_AE2YxsAniF1BihFNdc7w5YlXgDZyUNuvIIvNX44DzEoAI_YUj31rbxMgSYBjeuL8u_kInI2HjHzzpupQ\n"
     ]
    }
   ],
   "source": [
    "results = sp.current_user_playlists(limit=50)"
   ]
  },
  {
   "cell_type": "code",
   "execution_count": null,
   "id": "c60af167",
   "metadata": {},
   "outputs": [],
   "source": [
    "results"
   ]
  },
  {
   "cell_type": "code",
   "execution_count": 38,
   "id": "ad4d2e70",
   "metadata": {},
   "outputs": [
    {
     "name": "stdout",
     "output_type": "stream",
     "text": [
      "Liked Songs\n",
      "Karaoké\n",
      "KTA | electronic | drops | boum boum\n",
      "Coding\n",
      "Bath time\n",
      "R4T Ange 22 oct 2021\n",
      "R4T Ange 19 nov 2021\n",
      "F4T 2021 sélection\n",
      "Morning chills\n",
      "men are tr@sh\n",
      "men are decaying biological compound\n",
      "~Llx 3T\n",
      "Llx 4T\n",
      "Pole Dance\n",
      "happy | on the road\n",
      "chill | ambiance\n",
      "Boomers\n",
      "sleepy | réflexions nocturnes\n",
      "Feel Good Acoustic\n",
      "Ulm 2021-10-15\n",
      "R4Y - Rock That Yooma n°4 - 24 09 2021\n",
      "Ulm 2021-10-01\n",
      "Ulm 2021-09-24\n"
     ]
    }
   ],
   "source": [
    "for playlist in results['items']:\n",
    "    print(playlist['name'])"
   ]
  },
  {
   "cell_type": "markdown",
   "id": "963827eb",
   "metadata": {},
   "source": [
    "# Get tracks from playlist"
   ]
  },
  {
   "cell_type": "code",
   "execution_count": 48,
   "id": "865e6e9c",
   "metadata": {},
   "outputs": [
    {
     "name": "stdout",
     "output_type": "stream",
     "text": [
      "Enter the URL you were redirected to: https://127.0.0.1/?code=AQCcCs04JFl3EXGwHbj1Fhk8CQ_yZ32DIt9c5eFwsTl_Lne6XpNCbCQCJgYMeBNVdIvE1QNqqqlYkauWF1mYjDWnXHC4OKPNoQ5T5kxRM9aoNtaJT0R6AQ3U10yJG-kdr-OdgjWAYZQ2DgR9YDjEqaq0acvdHNPZQQwIHnDHGscEqm_IZtbOks7PKjG0H0py66PWp9dOTipsWEYqtI64uIpPbkj41gjAbEjgrp6pcc3GvWT8xEMzUANe5FhWvQ\n"
     ]
    }
   ],
   "source": [
    "playlist_tracks = sp.user_playlist_tracks(playlist_id=\"725ZkjrD6uuSaM3bRZEj8j\")#, fields='items,uri,name,id,total', market='fr')"
   ]
  },
  {
   "cell_type": "code",
   "execution_count": 42,
   "id": "b7df3a1c",
   "metadata": {},
   "outputs": [
    {
     "data": {
      "text/plain": [
       "dict_keys(['href', 'items', 'limit', 'next', 'offset', 'previous', 'total'])"
      ]
     },
     "execution_count": 42,
     "metadata": {},
     "output_type": "execute_result"
    }
   ],
   "source": [
    "playlist_tracks.keys()"
   ]
  },
  {
   "cell_type": "code",
   "execution_count": 52,
   "id": "fffa43de",
   "metadata": {},
   "outputs": [
    {
     "data": {
      "text/plain": [
       "dict_keys(['album', 'artists', 'available_markets', 'disc_number', 'duration_ms', 'episode', 'explicit', 'external_ids', 'external_urls', 'href', 'id', 'is_local', 'name', 'popularity', 'preview_url', 'track', 'track_number', 'type', 'uri'])"
      ]
     },
     "execution_count": 52,
     "metadata": {},
     "output_type": "execute_result"
    }
   ],
   "source": [
    "t = playlist_tracks['items'][0]['track']\n",
    "t.keys()"
   ]
  },
  {
   "cell_type": "code",
   "execution_count": 55,
   "id": "4a0c4d65",
   "metadata": {},
   "outputs": [
    {
     "data": {
      "text/plain": [
       "7"
      ]
     },
     "execution_count": 55,
     "metadata": {},
     "output_type": "execute_result"
    }
   ],
   "source": [
    "t['track_number']"
   ]
  },
  {
   "cell_type": "markdown",
   "id": "05cb8f71",
   "metadata": {},
   "source": [
    "# Like the tracks"
   ]
  },
  {
   "cell_type": "code",
   "execution_count": 70,
   "id": "16bea64c",
   "metadata": {},
   "outputs": [
    {
     "name": "stdout",
     "output_type": "stream",
     "text": [
      "error idk why 'NoneType' object has no attribute 'split'\n",
      "50 musiques likées\n",
      "149 musiques likées\n",
      "248 musiques likées\n",
      "347 musiques likées\n",
      "446 musiques likées\n",
      "545 musiques likées\n",
      "644 musiques likées\n"
     ]
    }
   ],
   "source": [
    "id_list = []\n",
    "\n",
    "count = 0\n",
    "total_count = 0\n",
    "limit = 50\n",
    "\n",
    "while playlist_tracks:\n",
    "    for track in playlist_tracks['items']:\n",
    "        track = track['track']\n",
    "        #print(track['id'], track['name'], \"-\", track['artists'][0]['name'])\n",
    "        if count == limit:\n",
    "            sp.current_user_saved_tracks_add(tracks=id_list)\n",
    "            print(total_count, \"musiques likées\")\n",
    "            id_list = []\n",
    "            count = 0\n",
    "        else:\n",
    "            id_list.append(track['id'])\n",
    "            count += 1\n",
    "            total_count += 1\n",
    "    if len(id_list) > 0:\n",
    "        sp.current_user_saved_tracks_add(tracks=id_list)\n",
    "        id_list = []\n",
    "        count = 0\n",
    "    if playlist_tracks['next']:\n",
    "        playlist_tracks = sp.next(playlist_tracks)\n",
    "    else:\n",
    "        playlist_tracks = None"
   ]
  }
 ],
 "metadata": {
  "kernelspec": {
   "display_name": "Python 3 (ipykernel)",
   "language": "python",
   "name": "python3"
  },
  "language_info": {
   "codemirror_mode": {
    "name": "ipython",
    "version": 3
   },
   "file_extension": ".py",
   "mimetype": "text/x-python",
   "name": "python",
   "nbconvert_exporter": "python",
   "pygments_lexer": "ipython3",
   "version": "3.8.10"
  }
 },
 "nbformat": 4,
 "nbformat_minor": 5
}
